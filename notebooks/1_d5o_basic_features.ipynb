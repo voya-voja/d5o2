{
 "cells": [
  {
   "cell_type": "markdown",
   "metadata": {},
   "source": [
    "# Factoring with Dann5 d5o and D-Wave Ocean and other basic features\n",
    "\n",
    "This Jupyter Notebook demonstrates:\n",
    "1.\ta programmatic conversion of a problem statement into a Qubo binary quadratic model (BQM) for D-Wave quantum annealing computer (QAC) execution by using [Dann5 d5o 2 library](https://github.com/voya-voja/d5o2), \n",
    "2.\tsubmission of the Qubo to the D-Wave system and retrieval of corresponding solution samples, and \n",
    "3.\tconversion of the retrieved solution samples  into human readable form by using Dann5 d5o 2 library.\n",
    "\n",
    "In the [Leap factoring demo](https://cloud.dwavesys.com/learning/user/nebojsa_2evojinovic_40rogers_2ecom/notebooks/leap/demos/factoring/01-factoring-overview.ipynb), the D-Wave system can be used to factor a whole number by running a multiplication circuit in reverse. The factoring demo shows how can be solved a [constraint satisfaction problem (CSP)]( https://docs.ocean.dwavesys.com/en/stable/concepts/csp.html) on a QAC. \n",
    "\n",
    "In a way **Dann5 d5o programming framework** is an extension of python programming langue that provides a human friendly generalization of CSP implementation, which permits quantum programmers to use constructs such as data types definitions, expression and assignments to define problem to be solved on quantum computers, annealers or simulators via QUBO transformation.\n",
    "\n",
    "So, if you have [installed Dann5 d5o library](https://pypi.org/project/dann5/) and all prerequisites, lets start."
   ]
  },
  {
   "cell_type": "markdown",
   "metadata": {},
   "source": [
    "## Defining quantum variables using d5o 2"
   ]
  },
  {
   "cell_type": "code",
   "execution_count": 34,
   "metadata": {},
   "outputs": [],
   "source": [
    "from dann5.d5o2 import Qwhole"
   ]
  },
  {
   "cell_type": "markdown",
   "metadata": {},
   "source": [
    "> The line above allows definition of **Q** (quantum) **whole variables** in python.\n",
    "\n",
    "To define a Q variable **a** as an unknown whole number with **4 Q bits in S**(uperposition) state, it is as simple as:"
   ]
  },
  {
   "cell_type": "code",
   "execution_count": 35,
   "metadata": {},
   "outputs": [],
   "source": [
    "var = Qwhole(4, \"a\")"
   ]
  },
  {
   "cell_type": "markdown",
   "metadata": {},
   "source": [
    "> Note that **'var'** is a python variable with a reverence to the defined Q whole variable **'a'**.\n",
    "\n",
    "There is no reason that python and Q variable can't have the same name, like in the following line. **A python variable has a reference to a defined Q variable with the same name 'b'**."
   ]
  },
  {
   "cell_type": "code",
   "execution_count": 36,
   "metadata": {},
   "outputs": [],
   "source": [
    "b = Qwhole(3, \"b\")"
   ]
  },
  {
   "cell_type": "markdown",
   "metadata": {},
   "source": [
    "> The Q variable 'b' is of **Qwhole type with U**(nknown) **value**, meaning that **at least one of its Qbits is in a S**(uperposition)** state**. In this definition of Q variable 'b', all 3 Qbits are in S state.\n",
    "\n",
    "Both, 'a' and 'b' Q variables are defined as *Unknown*. HOwever, if we want to define a **deterministic Q whole variable** we specify its initialization value as in following definition:"
   ]
  },
  {
   "cell_type": "code",
   "execution_count": 37,
   "metadata": {},
   "outputs": [],
   "source": [
    "A = Qwhole(\"A\", 15)"
   ]
  },
  {
   "cell_type": "markdown",
   "metadata": {},
   "source": [
    "- **NOTE**: Like in python, a Q whole variable 'A' is different from Q variable 'a', i.e. **d5o is case sensitive**.\n",
    "\n",
    "> The Q variable 'A' is a 4 Qbit whole number with value 15, i.e. all its Qbits set to 1, i.e. binary 1111."
   ]
  },
  {
   "cell_type": "code",
   "execution_count": 41,
   "metadata": {},
   "outputs": [
    {
     "name": "stdout",
     "output_type": "stream",
     "text": [
      "The binarry presentation of a deterministic Qwhole varaible A/4:15/ is A/4b1111/.\n",
      "The binary presentation of an unknown Qwhole varaible a/4:U/ is a/4bU/,\n",
      "... and of b/3:U/ is b/3bU/,\n"
     ]
    }
   ],
   "source": [
    "from dann5.d5o2 import Qbin\n",
    "print('The binarry presentation of a deterministic Qwhole varaible {} is {}.'.format(A.toString(), Qbin(A).toString()))\n",
    "print('The binary presentation of an unknown Qwhole varaible {} is {},'.format(var.toString(), Qbin(var).toString()))\n",
    "print('... and of {} is {},'.format(b.toString(), Qbin(b).toString()))"
   ]
  },
  {
   "cell_type": "markdown",
   "metadata": {},
   "source": [
    "## Defining and solving d5o 2 quantum assignment\n",
    "We can now define a quantum assignment (Qassignment) by assign an addition quantum expression 'a' + 'b' to 'A':"
   ]
  },
  {
   "cell_type": "code",
   "execution_count": 42,
   "metadata": {},
   "outputs": [],
   "source": [
    "eA = A.assign(var + b)"
   ]
  },
  {
   "cell_type": "markdown",
   "metadata": {},
   "source": [
    "In python, we write the expression **'var' + 'b'**, as python 'var' variable is reference of a definition of Q whole variable 'a'.\n",
    "- **NOTE**: all the quantum variables in an expression or assignment have to be of the same type.\n",
    "> In this notebook we cover Qwhole variables, however, at present dann5.d5o2 supports definition of quantum expressions and assignments using variables of Qbit, Qbool, Qbin, Qwhole and Qint types."
   ]
  },
  {
   "cell_type": "code",
   "execution_count": 43,
   "metadata": {},
   "outputs": [
    {
     "data": {
      "text/plain": [
       "<dann5.d5o2.QwholeAssignment at 0x1f5874aa0f0>"
      ]
     },
     "execution_count": 43,
     "metadata": {},
     "output_type": "execute_result"
    }
   ],
   "source": [
    "eA"
   ]
  },
  {
   "cell_type": "markdown",
   "metadata": {},
   "source": [
    "- **NOTE**: eA is an instance of a dann5.d5o2.QwholeAssignment class, which is a specilization of dann5.d5o2.Qassignment, with the following Qwhole addition assigned:"
   ]
  },
  {
   "cell_type": "code",
   "execution_count": 44,
   "metadata": {},
   "outputs": [
    {
     "name": "stdout",
     "output_type": "stream",
     "text": [
      "A/5:15/ = (a/4:U/ + b/3:U/)\n"
     ]
    }
   ],
   "source": [
    "print(eA.toString())"
   ]
  },
  {
   "cell_type": "markdown",
   "metadata": {},
   "source": [
    "The *eA.toString()* method returns the quantum assignment, where each variable is presented as \n",
    "> *variable_name* ***/*** *#_of_q-bits* ***:*** *varaible_value* ***/***\n",
    "\n",
    "- **NOTE**: Unknown quantum whole variables 'a' and 'b' have *variable_value = U*, while deterministic quantum whole variable 'A' has *variable_value = 15*.\n",
    "\n",
    "We can see the Qbit level decomposition of the Q assignment, by setting *decomposed* argument to *True* in the *eA.toString()* method. The default value of *decomposed* argument is *False*."
   ]
  },
  {
   "cell_type": "code",
   "execution_count": 45,
   "metadata": {},
   "outputs": [
    {
     "name": "stdout",
     "output_type": "stream",
     "text": [
      "\n",
      "A0/1/ = a0/S/ ^ b0/S/\n",
      "\n",
      "A1/1/ = a1/S/ + b1/S/ + #20/S/\n",
      "#20/S/ = #[A0/1/]\n",
      "\n",
      "A2/1/ = a2/S/ + b2/S/ + #21/S/\n",
      "#21/S/ = #[A1/1/]\n",
      "\n",
      "A3/1/ = a3/S/ ^ #22/S/\n",
      "#22/S/ = #[A2/1/]\n",
      "\n",
      "A4/0/ = #[A3/1/]\n",
      "\n"
     ]
    }
   ],
   "source": [
    "print(eA.toString(True))"
   ]
  },
  {
   "cell_type": "markdown",
   "metadata": {},
   "source": [
    "The *eA.toString(True)* method returns line by line Q bit level assignments corresponding to the original quantum assignment, where each Qbit variable is presented as \n",
    "> *variable_name #_of_q-bit_level* ***/*** *q-bit_varaible_value* ***/***\n",
    "\n",
    "- **NOTE**: The q-bit variables, like 'a0' or 'b2' of unknown quantum variables 'a' and 'b', are in superposition state, i.e. their *q-bit_variable_value = S*.\n",
    "\n",
    "- **NOTE**: As a result of quantum addition of Qwhole variables with 4 Qbits ('a') and 3 Qbits ('b') can have a result with 5 Qbits, so the Q assignment result 'A' is extended by adding an additional Qbit 'A4' with a value assigned according to its type:\n",
    "    - A deterministic Qwhole variable is extended by adding a deterministic Qbit of value 0.\n",
    "    - An unknown Qwhole variable is extended by adding a Qubit is superposition state, i.e. the value is set to S.\n",
    "\n",
    "Also, it is possible to check the specific quantum bit level expression of an assignment, like Q bit level 2 in the following example, by seting *forBit* argument to *2*. The default value  of *forBit* argument is *dann5.d5o2.AllBits()*, which returns *-1*."
   ]
  },
  {
   "cell_type": "code",
   "execution_count": 47,
   "metadata": {},
   "outputs": [
    {
     "name": "stdout",
     "output_type": "stream",
     "text": [
      "\n",
      "A2/1/ = a2/S/ + b2/S/ + #21/S/\n",
      "#21/S/ = #[A1/1/]\n"
     ]
    }
   ],
   "source": [
    "print(eA.toString(True, 2))"
   ]
  },
  {
   "cell_type": "markdown",
   "metadata": {},
   "source": [
    "- **NOTE**: The varaible *#[A1/1/]* represents a carryover of quantum level 1 assignment. In this example it is equal to a temporary carryover variable *#6/S/*, which is used in addition expresion for quantum bit level 2.\n",
    "\n",
    "To solve the assignment we can use dann5.d5o2 built in quantum annealing simulator, by invoking *Qassignmnet solve()* method."
   ]
  },
  {
   "cell_type": "code",
   "execution_count": 52,
   "metadata": {},
   "outputs": [
    {
     "name": "stdout",
     "output_type": "stream",
     "text": [
      "A/5:15/; a/4:8/; b/3:7/\n",
      "A/5:15/; a/4:12/; b/3:3/\n",
      "A/5:15/; a/4:10/; b/3:5/\n",
      "A/5:15/; a/4:14/; b/3:1/\n",
      "A/5:15/; a/4:9/; b/3:6/\n",
      "A/5:15/; a/4:13/; b/3:2/\n",
      "A/5:15/; a/4:11/; b/3:4/\n",
      "A/5:15/; a/4:15/; b/3:0/\n",
      "\n",
      "\n"
     ]
    }
   ],
   "source": [
    "print(eA.solve())"
   ]
  },
  {
   "cell_type": "markdown",
   "metadata": {},
   "source": [
    "The *solve()* method returns all possible solutions of an assignment within the bounds of defined variables, i.e. the unknown variables Qbits sizes.\n",
    "- **NOTE**: 'a' = 8 and 'b' = 7 is a valid solution, but 'a' = 7 and 'b' = 8 is not as Qwhole variable 'b' is defined with only 3 Qbits.\n",
    "\n",
    "## Quantum variable binding in dann5.d5o2\n",
    "\n",
    "It is important to understand that defined quantum varaibles within an quantum expression once assigned are bound to the Qassignment."
   ]
  },
  {
   "cell_type": "code",
   "execution_count": 61,
   "metadata": {},
   "outputs": [
    {
     "name": "stdout",
     "output_type": "stream",
     "text": [
      "Original variables:\n",
      "A/4:15/ = a/4:U/ + b/3:U/\n",
      "Quantum assignment:\n",
      "A/5:15/ = (a/4:U/ + b/3:U/)\n",
      "Solutions:\n",
      "A/5:15/; a/4:8/; b/3:7/\n",
      "A/5:15/; a/4:12/; b/3:3/\n",
      "A/5:15/; a/4:10/; b/3:5/\n",
      "A/5:15/; a/4:14/; b/3:1/\n",
      "A/5:15/; a/4:9/; b/3:6/\n",
      "A/5:15/; a/4:13/; b/3:2/\n",
      "A/5:15/; a/4:11/; b/3:4/\n",
      "A/5:15/; a/4:15/; b/3:0/\n",
      "\n",
      "\n"
     ]
    }
   ],
   "source": [
    "print('Original variables:\\n{} = {} + {}'.format(A.toString(), var.toString(), b.toString()))\n",
    "print('Quantum assignment:\\n{}'.format(eA.toString()))\n",
    "print('Solutions:\\n{}'.format(eA.solutions()))"
   ]
  },
  {
   "cell_type": "markdown",
   "metadata": {},
   "source": [
    "We can continue to use the quantum varaibles to find factors of number 15:  "
   ]
  },
  {
   "cell_type": "code",
   "execution_count": 66,
   "metadata": {},
   "outputs": [
    {
     "name": "stdout",
     "output_type": "stream",
     "text": [
      "Solutions of\n",
      "A/7:15/ = (a/4:U/ * b/3:U/)\n",
      "are:\n",
      "A/7:15/; a/4:8/; b/3:7/\n",
      "A/7:15/; a/4:12/; b/3:3/\n",
      "A/7:15/; a/4:10/; b/3:5/\n",
      "\n",
      "\n"
     ]
    }
   ],
   "source": [
    "eM = A.assign(var * b)\n",
    "print('Solutions of\\n{}\\nare:\\n{}'.format(eM.toString(),eM.solve()))"
   ]
  },
  {
   "cell_type": "markdown",
   "metadata": {},
   "source": [
    "However, **the result is incorrect!!!**\n",
    "Even though, it is possible to reuse same quantum varaibles for a different quantum assignments by reseting the initial assignment, as shown in following code..."
   ]
  },
  {
   "cell_type": "code",
   "execution_count": 67,
   "metadata": {},
   "outputs": [
    {
     "name": "stdout",
     "output_type": "stream",
     "text": [
      "Solutions of\n",
      "A/7:15/ = (a/4:U/ * b/3:U/)\n",
      "are:\n",
      "A/7:15/; a/4:15/; b/3:1/\n",
      "A/7:15/; a/4:3/; b/3:5/\n",
      "A/7:15/; a/4:5/; b/3:3/\n",
      "\n",
      "\n"
     ]
    }
   ],
   "source": [
    "eA.reset()\n",
    "eM = A.assign(var * b)\n",
    "print('Solutions of\\n{}\\nare:\\n{}'.format(eM.toString(),eM.solve()))"
   ]
  },
  {
   "cell_type": "markdown",
   "metadata": {},
   "source": [
    "..., the best practice is to **use different quantum variables for different quantum assignments**!"
   ]
  },
  {
   "cell_type": "code",
   "execution_count": 69,
   "metadata": {},
   "outputs": [
    {
     "name": "stdout",
     "output_type": "stream",
     "text": [
      "Solutions of\n",
      "M/7:15/ = (c/4:U/ * d/3:U/)\n",
      "are:\n",
      "M/7:15/; c/4:15/; d/3:1/\n",
      "M/7:15/; c/4:3/; d/3:5/\n",
      "M/7:15/; c/4:5/; d/3:3/\n",
      "\n",
      "\n",
      "\n",
      "Solutions of\n",
      "A/5:15/ = (a/4:U/ + b/3:U/)\n",
      "are:\n",
      "A/5:15/; a/4:8/; b/3:7/\n",
      "A/5:15/; a/4:12/; b/3:3/\n",
      "A/5:15/; a/4:10/; b/3:5/\n",
      "A/5:15/; a/4:14/; b/3:1/\n",
      "A/5:15/; a/4:9/; b/3:6/\n",
      "A/5:15/; a/4:13/; b/3:2/\n",
      "A/5:15/; a/4:11/; b/3:4/\n",
      "A/5:15/; a/4:15/; b/3:0/\n",
      "\n",
      "\n"
     ]
    }
   ],
   "source": [
    "c = Qwhole(4, 'c')\n",
    "d = Qwhole(3, 'd')\n",
    "M = Qwhole('M', 15)\n",
    "eM = M.assign(c * d)\n",
    "print('Solutions of\\n{}\\nare:\\n{}'.format(eM.toString(),eM.solve()))\n",
    "eA.reset()\n",
    "print('\\nSolutions of\\n{}\\nare:\\n{}'.format(eA.toString(),eA.solve()))"
   ]
  },
  {
   "cell_type": "markdown",
   "metadata": {},
   "source": [
    "> The resulting 'eA' Q equation represents a CSP for **'A' = 'a' + 'b'** statement, where 'a' and 'b' are unknown and expected result 'A' is 15.\n",
    "\n",
    "Now we can convert the Q equation 'eA' to Qubo binary quadratic model (DQM) form 'gQ_eA'. Here we are requesting a **'generic' [Qubo BQM](https://docs.dwavesys.com/docs/latest/c_gs_3.html#qubo)** of 'eA' Q equation, which means that deterministic variables are nor substituted with their values.  "
   ]
  },
  {
   "cell_type": "code",
   "execution_count": null,
   "metadata": {},
   "outputs": [],
   "source": [
    "gQ_eA = eA.qubo(False)\n",
    "print(gQ_eA)"
   ]
  },
  {
   "cell_type": "markdown",
   "metadata": {},
   "source": [
    "To prepare a Qubo BQM of the Q equation 'eA' for processing on QAC, we need to create a **'finalized'** version."
   ]
  },
  {
   "cell_type": "code",
   "execution_count": null,
   "metadata": {},
   "outputs": [],
   "source": [
    "fQ_eA = eA.qubo()\n",
    "print(fQ_eA)"
   ]
  },
  {
   "cell_type": "markdown",
   "metadata": {},
   "source": [
    "> If we compare the two Qubo BQM's, we will see that the second **does not have any [linear or quadratic pairs](https://docs.dwavesys.com/docs/latest/c_gs_3.html#objective-functions) containing Qbit definitions of deterministic Q variable(s)**, i.e. Q variable 'A' Qbit's definitions {A0 - A4} have been substituted with their values in 'generic' Qubo BQM and the resulting Qubo BQM has been normalized to make a 'finalized' version of Qubo BQM for Q equation 'eA'."
   ]
  },
  {
   "cell_type": "markdown",
   "metadata": {},
   "source": [
    "## Solving Q equation and reporting results\n",
    "\n",
    "To solve our problem statement *'A' = 'a' + 'b', where 'A' = 15 and 'a'='b'=U(nknown)* defined by Q equation *'eA'* we will use [D-Wave's Exact Solver](https://docs.ocean.dwavesys.com/projects/dimod/en/0.7.0/reference/generated/dimod.reference.samplers.ExactSolver.sample.html):"
   ]
  },
  {
   "cell_type": "code",
   "execution_count": null,
   "metadata": {},
   "outputs": [],
   "source": [
    "from dimod import ExactSolver\n",
    "exactSolver = ExactSolver()                   # local solver"
   ]
  },
  {
   "cell_type": "markdown",
   "metadata": {},
   "source": [
    "... and execute request *sample_qubo()* to solve *'fQ_eA'*, a 'finalized' Qubo BQM for 'eA' Q equation."
   ]
  },
  {
   "cell_type": "code",
   "execution_count": null,
   "metadata": {},
   "outputs": [],
   "source": [
    "sampleset = exactSolver.sample_qubo(fQ_eA)"
   ]
  },
  {
   "cell_type": "markdown",
   "metadata": {},
   "source": [
    "The **D-Wave sampleset has to be converted into a python dictionary** ('samples'), before it is passed to the Q equation 'eA' to provide solutions in a human readable form: "
   ]
  },
  {
   "cell_type": "code",
   "execution_count": null,
   "metadata": {},
   "outputs": [],
   "source": [
    "samples = [dict(sample) for sample in sampleset.lowest().samples()]\n",
    "eA.set(samples)\n",
    "print(eA.solutions())"
   ]
  },
  {
   "cell_type": "markdown",
   "metadata": {},
   "source": [
    "> Note that we have used **sampleset.lowest().samples()** to ensure that from teh whole sampleset of all posible solution of Qubo BQM, we retrieve only those with the lowest energy level as the best solution for our CSP described by eA Q equation.\n",
    "\n",
    "By carefully reviewing the returned results you will see that *8 <= 'a' <= 15* and *0 <= 'b' <= 7*, which are appropriate results considering that we set Q variable 'b' to have only 3 Qbits, i.e. imposing additional condition that 'b' cannot be bigger than 7.\n",
    "\n",
    "> If you go back and change only the number of Qbits for variable 'b', the solution set for Q equation eA will be different"
   ]
  },
  {
   "cell_type": "markdown",
   "metadata": {},
   "source": [
    "## Factoring with d5o\n",
    "\n",
    "Back to the [Leap factoring demo](https://cloud.dwavesys.com/learning/user/nebojsa_2evojinovic_40rogers_2ecom/notebooks/leap/demos/factoring/01-factoring-overview.ipynb), the same problem can be represented in d5o as *P = x * y; where P = 21 and 'x' and 'y' are 3 Qbits unknown Q whole numbers*:"
   ]
  },
  {
   "cell_type": "code",
   "execution_count": null,
   "metadata": {},
   "outputs": [],
   "source": [
    "x = Qvar(3, \"x\")\n",
    "y = Qvar(3, 'y')\n",
    "eP = Qequation(Qvar(\"P\", 21))\n",
    "eP.assign(x * y)\n",
    "print(eP.toString())"
   ]
  },
  {
   "cell_type": "markdown",
   "metadata": {},
   "source": [
    "The next line prints 'eP' Q equation decomposed in elementary circuit logic:"
   ]
  },
  {
   "cell_type": "code",
   "execution_count": null,
   "metadata": {},
   "outputs": [],
   "source": [
    "print(eP.toString(True))"
   ]
  },
  {
   "cell_type": "markdown",
   "metadata": {},
   "source": [
    "> The elementary circuits and Qbit definitions of Q variables are the nodes of Qubo BQM for 'eP' Q equation."
   ]
  },
  {
   "cell_type": "code",
   "execution_count": null,
   "metadata": {},
   "outputs": [],
   "source": [
    "print(eP.qubo(False))"
   ]
  },
  {
   "cell_type": "code",
   "execution_count": null,
   "metadata": {},
   "outputs": [],
   "source": [
    "fQ_eP = eP.qubo()"
   ]
  },
  {
   "cell_type": "code",
   "execution_count": null,
   "metadata": {},
   "outputs": [],
   "source": [
    "sampleset = exactSolver.sample_qubo(fQ_eP)"
   ]
  },
  {
   "cell_type": "code",
   "execution_count": null,
   "metadata": {},
   "outputs": [],
   "source": [
    "samples = [dict(sample) for sample in sampleset.lowest().samples()]\n",
    "eP.set(samples)\n",
    "print(eP.solutions())"
   ]
  },
  {
   "cell_type": "markdown",
   "metadata": {},
   "source": [
    "## Subtraction and Division\n",
    "\n",
    "d5o allows QAC developers to define a subtraction Q equations... "
   ]
  },
  {
   "cell_type": "code",
   "execution_count": null,
   "metadata": {},
   "outputs": [],
   "source": [
    "a = Qvar(4, 'a')\n",
    "T = Qvar('T', 7)\n",
    "eS = Qequation(T - a)\n",
    "sampleset = exactSolver.sample_qubo(eS.qubo(True, -1))\n",
    "samples = [dict(sample) for sample in sampleset.lowest().samples()]\n",
    "eS.set(samples)\n",
    "print(eS.solutions())"
   ]
  },
  {
   "cell_type": "markdown",
   "metadata": {},
   "source": [
    "... or a division equation."
   ]
  },
  {
   "cell_type": "code",
   "execution_count": null,
   "metadata": {},
   "outputs": [],
   "source": [
    "d = Qvar(3, 'd')\n",
    "M = Qvar(\"M\", 15)\n",
    "eD = Qequation(M / d)\n",
    "sampleset = exactSolver.sample_qubo(eD.qubo())\n",
    "samples = [dict(sample) for sample in sampleset.lowest().samples()]\n",
    "eD.set(samples)\n",
    "print(eD.solutions())"
   ]
  },
  {
   "cell_type": "markdown",
   "metadata": {},
   "source": [
    "## Using Constants in a Q equation\n",
    "A definition and use of a constant in d5o is same as definition of any other variable with a deterministic value. In order to easily distinguish constants from variables we recommend following syntax as an example of best coding practice:\n",
    "\n",
    "> _3 = Qvar(\"3_\", 3)\n",
    "\n",
    "Based on above we can make a Q equation such as:"
   ]
  },
  {
   "cell_type": "code",
   "execution_count": null,
   "metadata": {},
   "outputs": [],
   "source": [
    "_3 = Qvar(\"3_\", 3)\n",
    "i = Qvar(2, \"i\")\n",
    "j = Qvar(2, \"j\")\n",
    "C = Qvar(\"C\", 15)\n",
    "eC = Qequation(C)\n",
    "eC.assign(_3 * (i + j))\n",
    "sampleset = exactSolver.sample_qubo(eC.qubo())\n",
    "samples = [dict(sample) for sample in sampleset.lowest().samples()]\n",
    "eC.set(samples)\n",
    "print(eC.solutions())"
   ]
  },
  {
   "cell_type": "code",
   "execution_count": null,
   "metadata": {},
   "outputs": [],
   "source": []
  }
 ],
 "metadata": {
  "kernelspec": {
   "display_name": "Python 3 (ipykernel)",
   "language": "python",
   "name": "python3"
  },
  "language_info": {
   "codemirror_mode": {
    "name": "ipython",
    "version": 3
   },
   "file_extension": ".py",
   "mimetype": "text/x-python",
   "name": "python",
   "nbconvert_exporter": "python",
   "pygments_lexer": "ipython3",
   "version": "3.9.9"
  }
 },
 "nbformat": 4,
 "nbformat_minor": 4
}
