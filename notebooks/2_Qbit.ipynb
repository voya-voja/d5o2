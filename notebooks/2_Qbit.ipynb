{
 "cells": [
  {
   "cell_type": "markdown",
   "id": "aa878b9b",
   "metadata": {},
   "source": [
    "# Qbit\n",
    "Quantum bit, Qbit is a quantum type supporting instantiation of and operations over variables which can have values 0, 1 and superposition. A Qbit can be set into superposition state by initializing an instance with a character 'S', or value 83 (as per ASCII).\n",
    "An instance of Qbit can be created by use of default constructor, which will initialize the instance in superposition state:"
   ]
  },
  {
   "cell_type": "code",
   "execution_count": 1,
   "id": "1b80afc3",
   "metadata": {},
   "outputs": [
    {
     "name": "stdout",
     "output_type": "stream",
     "text": [
      "/S/\n"
     ]
    }
   ],
   "source": [
    "from dann5.d5o2 import Qbit\n",
    "q_bit = Qbit()\n",
    "print(q_bit.toString())"
   ]
  },
  {
   "cell_type": "markdown",
   "id": "90f2c78b",
   "metadata": {},
   "source": [
    "> python variable *q_bit* is a reference to an instance of Qbit object that is initialized in superposition (**S**) state.\n",
    "\n",
    "*For quantum variables to be used to program using dann5.d5o2, varaibles need to have **quantum identity**.* This can be done by explicitely calling *id()* method or by using overloaded Qbit constructor:"
   ]
  },
  {
   "cell_type": "code",
   "execution_count": 2,
   "id": "050c1576",
   "metadata": {},
   "outputs": [
    {
     "name": "stdout",
     "output_type": "stream",
     "text": [
      "qBit/S/ ,  r/S/\n"
     ]
    }
   ],
   "source": [
    "q_bit.id('qBit')\n",
    "r = Qbit(\"r\")\n",
    "print(q_bit.toString(), ', ', r.toString())"
   ]
  },
  {
   "cell_type": "markdown",
   "id": "39d1baf4",
   "metadata": {},
   "source": [
    "- **NOTE**: As all variables will need specified **quantum identity**, the best practice is to use overloaded cnstructors to specify the identity athe time of instantiation of quantum variables.\n",
    "\n",
    "Also, it is possible to initialize a Qbit variable with specific value:"
   ]
  },
  {
   "cell_type": "code",
   "execution_count": 3,
   "id": "9cba18cc",
   "metadata": {},
   "outputs": [
    {
     "name": "stdout",
     "output_type": "stream",
     "text": [
      "_0_/0/, _1_/1/, y/S/\n"
     ]
    }
   ],
   "source": [
    "_0_ = Qbit(\"_0_\", 0)\n",
    "_1_ = Qbit(\"_1_\", 1)\n",
    "y = Qbit(\"y\", 5)\n",
    "print(\"{}, {}, {}\".format(_0_.toString(), _1_.toString(), y.toString()))"
   ]
  },
  {
   "cell_type": "markdown",
   "id": "06764f4f",
   "metadata": {},
   "source": [
    "> A Qbit variable can be initialized to 0, 1 or S(uperposition) state only. Any deterministic value differenet that 0 and 1 sets the variable in superposition state.\n",
    "\n",
    "However, eventhough we can use 'S' or 83 to initialize Qbit variable, the proper way of initializing a Qbit variable is use of *Superposition()* state method or not specifying any value when initializing a Qbit valible in python."
   ]
  },
  {
   "cell_type": "code",
   "execution_count": 4,
   "id": "9627b8ee",
   "metadata": {},
   "outputs": [
    {
     "name": "stdout",
     "output_type": "stream",
     "text": [
      "b/S/, z/S/, x/S/\n"
     ]
    }
   ],
   "source": [
    "from dann5.d5o2 import Superposition\n",
    "b = Qbit('b', ord('S'))\n",
    "z = Qbit(\"z\", 83)\n",
    "x = Qbit('x', Superposition())\n",
    "print(\"{}, {}, {}\".format(b.toString(), z.toString(), x.toString()))"
   ]
  },
  {
   "cell_type": "markdown",
   "id": "8deca169",
   "metadata": {},
   "source": [
    "A value of a quantum variable can be explicitely set or retrieved by use *value()* overloaded methods, like in the following example:"
   ]
  },
  {
   "cell_type": "code",
   "execution_count": 5,
   "id": "e6d4de3c",
   "metadata": {},
   "outputs": [
    {
     "name": "stdout",
     "output_type": "stream",
     "text": [
      "1, 83, 83\n"
     ]
    }
   ],
   "source": [
    "b.value(1)\n",
    "print(\"{}, {}, {}\".format(b.value(), z.value(), x.value()))"
   ]
  },
  {
   "cell_type": "markdown",
   "id": "8d28b98d",
   "metadata": {},
   "source": [
    "## Qbit operators\n",
    "Qbit operators create a relashinship between one input and one output Qbit variable. Thus, the values in a valid solution are enforced on variables to satisfy the specific operator, e.g.\n",
    "> x == y, creates an exual relationship between quantum variables, which enforces that x and y are always equal in a valid solution.\n",
    "\n",
    "In addition to equal (==) and not-qual (!=) operators Qbit variables can be less, greater, less-n-equal and greater-n-equal by using <, >, <= and >= operators respectfully:"
   ]
  },
  {
   "cell_type": "code",
   "execution_count": 6,
   "id": "5df54e1f",
   "metadata": {},
   "outputs": [
    {
     "name": "stdout",
     "output_type": "stream",
     "text": [
      "z > y:\n",
      "y/0/; z/1/\n",
      "\n",
      "z > (x != y):\n",
      "y/0/; x/1/; z/1/\n",
      "\n",
      "z >= y:\n",
      "y/0/; z/0/\n",
      "y/0/; z/1/\n",
      "y/1/; z/1/\n",
      "\n",
      "z >= (x != y):\n",
      "y/1/; x/0/; z/1/\n",
      "y/0/; x/1/; z/0/\n",
      "y/0/; x/1/; z/1/\n",
      "\n",
      "z < y:\n",
      "y/1/; z/0/\n",
      "\n",
      "z < (x != y):\n",
      "y/1/; x/0/; z/0/\n",
      "\n",
      "z <= y:\n",
      "y/0/; z/0/\n",
      "y/1/; z/0/\n",
      "y/1/; z/1/\n",
      "\n",
      "z <= (x != y):\n",
      "y/1/; x/0/; z/0/\n",
      "y/1/; x/0/; z/1/\n",
      "y/0/; x/1/; z/0/\n",
      "\n"
     ]
    }
   ],
   "source": [
    "print('z > y:\\n{}'.format((z > y).solve()))\n",
    "print('z > (x != y):\\n{}'.format((z > (x != y)).solve()))\n",
    "print('z >= y:\\n{}'.format((z >= y).solve()))\n",
    "print('z >= (x != y):\\n{}'.format((z >= (x != y)).solve()))\n",
    "print('z < y:\\n{}'.format((z < y).solve()))\n",
    "print('z < (x != y):\\n{}'.format((z < (x != y)).solve()))\n",
    "print('z <= y:\\n{}'.format((z <= y).solve()))\n",
    "print('z <= (x != y):\\n{}'.format((z <= (x != y)).solve()))"
   ]
  },
  {
   "cell_type": "markdown",
   "id": "bf2549f8",
   "metadata": {},
   "source": [
    "Additionally, inversion **~** is a Qbit bitwise operator, where an automatically generated Qbit inverted variable is introduced. In the folowing example an inversion of a Qbit variable with id *x* is a Qbit expression  **~x != x**, where **~x** is the name of the inversed Qbit variable."
   ]
  },
  {
   "cell_type": "code",
   "execution_count": 7,
   "id": "f661241c",
   "metadata": {},
   "outputs": [
    {
     "name": "stdout",
     "output_type": "stream",
     "text": [
      "(x/S/ != ~x/S/)\n",
      "{('x', 'x'): -1.0, ('x', '~x'): 2.0, ('~x', '~x'): -1.0}\n",
      "~x/1/; x/0/\n",
      "~x/0/; x/1/\n",
      "\n"
     ]
    }
   ],
   "source": [
    "xI = ~x\n",
    "print(xI.toString())\n",
    "print(xI.qubo())\n",
    "print(xI.solve())"
   ]
  },
  {
   "cell_type": "markdown",
   "id": "71c67b33",
   "metadata": {},
   "source": [
    "## Qbit operations\n",
    "\n",
    "Qbit operations always have two Qbit input arguments and at least a resulting Qbit output. Qbit *and(&)* and *or(|)* operations are those with one resluting Qbit variable as we see in below example those are _&(plus-number) or _|(plus-number)."
   ]
  },
  {
   "cell_type": "code",
   "execution_count": 8,
   "id": "bb464503",
   "metadata": {},
   "outputs": [
    {
     "name": "stdout",
     "output_type": "stream",
     "text": [
      "Qbit & Qbit: (x/S/ & y/S/)\n",
      "Decomposed:_&0/S/ = x/S/ & y/S/; \n",
      "QUBO: {('_&0', '_&0'): 3.0, ('x', '_&0'): -2.0, ('x', 'x'): 0.0, ('x', 'y'): 1.0, ('y', '_&0'): -2.0, ('y', 'y'): 0.0}\n",
      "Solutions:\n",
      "_&0/0/; x/0/; y/0/\n",
      "_&0/0/; x/0/; y/1/\n",
      "_&0/0/; x/1/; y/0/\n",
      "_&0/1/; x/1/; y/1/\n",
      "\n",
      "Qbit & (Qbit expression):\n",
      "_&2/0/; b/1/; _&1/0/; x/0/; y/0/\n",
      "_&2/0/; b/1/; _&1/0/; x/0/; y/1/\n",
      "_&2/0/; b/1/; _&1/0/; x/1/; y/0/\n",
      "_&2/1/; b/1/; _&1/1/; x/1/; y/1/\n",
      "\n",
      "Qbit | Qbit:\n",
      "_|0/0/; x/0/; y/0/\n",
      "_|0/1/; x/0/; y/1/\n",
      "_|0/1/; x/1/; y/0/\n",
      "_|0/1/; x/1/; y/1/\n",
      "\n",
      "Qbit | (Qbit expression):\n",
      "_|2/0/; _0_/0/; _|1/0/; x/0/; y/0/\n",
      "_|2/1/; _0_/0/; _|1/1/; x/0/; y/1/\n",
      "_|2/1/; _0_/0/; _|1/1/; x/1/; y/0/\n",
      "_|2/1/; _0_/0/; _|1/1/; x/1/; y/1/\n",
      "\n"
     ]
    }
   ],
   "source": [
    "xAnd = x & y\n",
    "print('Qbit & Qbit: {}\\nDecomposed:{}'.format(xAnd.toString(),xAnd.toString(True)))\n",
    "print('QUBO: {}\\nSolutions:\\n{}'.format(xAnd.qubo(), xAnd.solve()))\n",
    "\n",
    "print('Qbit & (Qbit expression):\\n{}'.format((b & (x & y)).solve()))\n",
    "print('Qbit | Qbit:\\n{}'.format((x | y).solve()))\n",
    "print('Qbit | (Qbit expression):\\n{}'.format((_0_ | (x | y)).solve()))"
   ]
  },
  {
   "cell_type": "markdown",
   "id": "83944d15",
   "metadata": {},
   "source": [
    "Qbit nand and nor are operations with two input arguments, which can be Qbit or Qbit expression (QbitExpr) and with one resulting and one auxilary Qbit output. The resulting Qbit outputs, in below example those are **_!&(plus-number)** or **_!|(plus-number)** can be seen in solution and in coresponding qubos, while auxiliary Qbit output variables **?!&(plus-number)** or **?!|(plus-number)** show up only in qubo, as they are required nodes of the QUBO transformation."
   ]
  },
  {
   "cell_type": "code",
   "execution_count": 9,
   "id": "20ed213f",
   "metadata": {},
   "outputs": [
    {
     "name": "stdout",
     "output_type": "stream",
     "text": [
      "Qbit !& Qbit: (x/S/ !& y/S/)\n",
      "Decomposed:_!&0/S/ = x/S/ !& y/S/; \n",
      "QUBO: {('?!&0', '?!&0'): 5.0, ('_!&0', '?!&0'): 10.0, ('_!&0', '_!&0'): -5.0, ('x', '?!&0'): -7.0, ('x', 'x'): 0.0, ('x', 'y'): 5.0, ('y', '?!&0'): -8.0, ('y', 'y'): 0.0}\n",
      "Solutions:\n",
      "_!&0/1/; x/0/; y/0/\n",
      "_!&0/1/; x/0/; y/1/\n",
      "_!&0/1/; x/1/; y/0/\n",
      "_!&0/0/; x/1/; y/1/\n",
      "\n",
      "Qbit !& (Qbit expression):\n",
      "_!&2/0/; b/1/; _!&1/1/; x/0/; y/0/\n",
      "_!&2/0/; b/1/; _!&1/1/; x/0/; y/1/\n",
      "_!&2/0/; b/1/; _!&1/1/; x/1/; y/0/\n",
      "_!&2/1/; b/1/; _!&1/0/; x/1/; y/1/\n",
      "\n",
      "Qbit !| Qbit:\n",
      "_!|0/0/; x/0/; y/1/\n",
      "_!|0/0/; x/1/; y/0/\n",
      "_!|0/1/; x/0/; y/0/\n",
      "_!|0/0/; x/1/; y/1/\n",
      "\n",
      "Qbit !| (Qbit expression):\n",
      "_!|2/1/; _0_/0/; _!|1/0/; x/0/; y/1/\n",
      "_!|2/1/; _0_/0/; _!|1/0/; x/1/; y/0/\n",
      "_!|2/0/; _0_/0/; _!|1/1/; x/0/; y/0/\n",
      "_!|2/1/; _0_/0/; _!|1/0/; x/1/; y/1/\n",
      "\n"
     ]
    }
   ],
   "source": [
    "xNand = x.nand(y)\n",
    "print('Qbit !& Qbit: {}\\nDecomposed:{}'.format(xNand.toString(),xNand.toString(True)))\n",
    "print('QUBO: {}\\nSolutions:\\n{}'.format(xNand.qubo(), xNand.solve()))\n",
    "\n",
    "print('Qbit !& (Qbit expression):\\n{}'.format((b.nand(x.nand(y))).solve()))\n",
    "print('Qbit !| Qbit:\\n{}'.format((x.nor(y)).solve()))\n",
    "print('Qbit !| (Qbit expression):\\n{}'.format((_0_.nor(x.nor(y))).solve()))"
   ]
  },
  {
   "cell_type": "markdown",
   "id": "13182374",
   "metadata": {},
   "source": [
    "Qbit xor and nxor are addition operations with two input arguments, which can be Qbit or Qbit expression (QbitExpr) and with one resulting and one carryforward Qbit output. The resulting Qbit outputs, in below example those are _^(plus-number) or _*=(plus-number) can be seen in solution and in coresponding qubos, while carryforward Qbit output variables #(plus-number) show up only in qubo, as they are required nodes of the QUBO transformation.\n",
    "- Qbit **xor** and **unlike** operations are interchangable \n",
    "- Qbit **nxor** and **alike** operations are interchangable"
   ]
  },
  {
   "cell_type": "code",
   "execution_count": 10,
   "id": "74d3c213",
   "metadata": {},
   "outputs": [
    {
     "name": "stdout",
     "output_type": "stream",
     "text": [
      "Qbit ^ Qbit: (x/S/ ^ y/S/)\n",
      "Decomposed:_^0/S/ = x/S/ ^ y/S/; \n",
      "QUBO: {('#0', '#0'): 4.0, ('_^0', '#0'): 4.0, ('_^0', '_^0'): 1.0, ('x', '#0'): -4.0, ('x', '_^0'): -2.0, ('x', 'x'): 1.0, ('x', 'y'): 2.0, ('y', '#0'): -4.0, ('y', '_^0'): -2.0, ('y', 'y'): 1.0}\n",
      "Solutions:\n",
      "_^0/0/; x/0/; y/0/\n",
      "_^0/1/; x/0/; y/1/\n",
      "_^0/1/; x/1/; y/0/\n",
      "_^0/0/; x/1/; y/1/\n",
      "\n",
      "Qbit ^ (Qbit expression):\n",
      "_^2/1/; b/1/; _^1/0/; x/0/; y/0/\n",
      "_^2/0/; b/1/; _^1/1/; x/0/; y/1/\n",
      "_^2/0/; b/1/; _^1/1/; x/1/; y/0/\n",
      "_^2/1/; b/1/; _^1/0/; x/1/; y/1/\n",
      "\n",
      "Qbit *= Qbit:\n",
      "_*=0/0/; x/0/; y/1/\n",
      "_*=0/0/; x/1/; y/0/\n",
      "_*=0/1/; x/0/; y/0/\n",
      "_*=0/1/; x/1/; y/1/\n",
      "\n",
      "Qbit *= (Qbit expression):\n",
      "_*=2/1/; _0_/0/; _*=1/0/; x/0/; y/1/\n",
      "_*=2/1/; _0_/0/; _*=1/0/; x/1/; y/0/\n",
      "_*=2/0/; _0_/0/; _*=1/1/; x/0/; y/0/\n",
      "_*=2/0/; _0_/0/; _*=1/1/; x/1/; y/1/\n",
      "\n"
     ]
    }
   ],
   "source": [
    "xXor = x ^ y\n",
    "print('Qbit ^ Qbit: {}\\nDecomposed:{}'.format(xXor.toString(),xXor.toString(True)))\n",
    "print('QUBO: {}\\nSolutions:\\n{}'.format(xXor.qubo(), xXor.solve()))\n",
    "\n",
    "print('Qbit ^ (Qbit expression):\\n{}'.format((b ^ (x.unlike(y))).solve()))\n",
    "print('Qbit *= Qbit:\\n{}'.format((x.nxor(y)).solve()))\n",
    "print('Qbit *= (Qbit expression):\\n{}'.format((_0_.nxor(x.alike(y))).solve()))"
   ]
  },
  {
   "cell_type": "markdown",
   "id": "2cbbbee6",
   "metadata": {},
   "source": [
    "## Use of operators and operations in complex Qbit expressions\n"
   ]
  },
  {
   "cell_type": "code",
   "execution_count": 11,
   "id": "5de522b7",
   "metadata": {},
   "outputs": [
    {
     "name": "stdout",
     "output_type": "stream",
     "text": [
      "\n",
      "LOGIC:((z/S/ != (b/1/ & x/S/)) | (z/S/ == (y/S/ ^ _0_/0/)))\n",
      "\tDecomposed: _|3/S/ = _&3/S/ | _^3/S/; z/S/ != _&3/S/; _&3/S/ = b/1/ & x/S/; z/S/ == _^3/S/; _^3/S/ = y/S/ ^ _0_/0/; \n",
      "*** Generic Qubo ***\n",
      "{('#6', '#6'): 4.0, ('_&3', '_&3'): 3.0, ('_&3', '_^3'): 1.0, ('_&3', '_|3'): -2.0, ('_0_', '#6'): -4.0, ('_0_', '_0_'): 1.0, ('_0_', '_^3'): -2.0, ('_^3', '#6'): 4.0, ('_^3', '_^3'): 3.0, ('_^3', '_|3'): -2.0, ('_|3', '_|3'): 1.0, ('b', '_&3'): -2.0, ('b', 'b'): 0.0, ('b', 'x'): 1.0, ('x', '_&3'): -2.0, ('x', 'x'): 0.0, ('y', '#6'): -4.0, ('y', '_0_'): 2.0, ('y', '_^3'): -2.0, ('y', 'y'): 1.0, ('z', '_&3'): 2.0, ('z', '_^3'): -2.0, ('z', 'z'): 0.0}\n",
      "\n",
      "*** Finalized Qubo ***\n",
      "{('#6', '#6'): 4.0, ('_&3', '_&3'): 1.0, ('_&3', '_^3'): 1.0, ('_&3', '_|3'): -2.0, ('_^3', '#6'): 4.0, ('_^3', '_^3'): 3.0, ('_^3', '_|3'): -2.0, ('_|3', '_|3'): 1.0, ('x', '_&3'): -2.0, ('x', 'x'): 1.0, ('y', '#6'): -4.0, ('y', '_^3'): -2.0, ('y', 'y'): 1.0, ('z', '_&3'): 2.0, ('z', '_^3'): -2.0, ('z', 'z'): 0.0}\n",
      "\n"
     ]
    }
   ],
   "source": [
    "xComplex = (z != (b & x)) | (z == (y ^ _0_))\n",
    "print(\"\\nLOGIC:{}\\n\\tDecomposed: {}\".format(xComplex.toString(),xComplex.toString(True)))\n",
    "print(\"*** Generic Qubo ***\\n{}\\n\".format(xComplex.qubo(False))); \n",
    "print(\"*** Finalized Qubo ***\\n{}\\n\".format(xComplex.qubo()))"
   ]
  },
  {
   "cell_type": "markdown",
   "id": "4f4a9690",
   "metadata": {},
   "source": [
    "The logical statemenet **((z != (b & x)) | (z == (y ^ _0_)))**, where x, y and z are in superposition state, _1_ and b set to value 1 and _0_ set to value 0 is decoomposed into following logical circuites:\n",
    ">\t                                     _|9/1/\n",
    ">\n",
    ">\t                   _&3/S/\t           |\t          \t_^6/S/\n",
    ">\n",
    ">\t          z/S/\t !=\t   _&3/S/\t\t       z/S/\t   == \t\t_^6/S/\n",
    ">\n",
    ">       \t\t        \tb/1/\t&\tx/S/\t\t\t              y/S/\t^\t_0_/0/\n",
    "\n",
    "The _&3 and _^6 are autoamtically generated result variables for and and xor operations respectfully. Both of the auxiliary result variables is set to superposition state, as at least one of the operations' input argument variables is in superposition state."
   ]
  },
  {
   "cell_type": "code",
   "execution_count": 12,
   "id": "d5785059",
   "metadata": {},
   "outputs": [
    {
     "name": "stdout",
     "output_type": "stream",
     "text": [
      "# of nodes: 7, # of branches: 9\n",
      "\n",
      "*** SOLUTION ***\n",
      "_|3/1/; _&3/0/; b/1/; x/0/; z/1/; _^3/1/; y/1/; _0_/0/; z/1/\n",
      "_|3/1/; _&3/1/; b/1/; x/1/; z/0/; _^3/0/; y/0/; _0_/0/; z/0/\n",
      "\n"
     ]
    }
   ],
   "source": [
    "from dann5.d5o2 import Qanalyzer\n",
    "analyze = Qanalyzer(xComplex.qubo())\n",
    "print(\"# of nodes: {}, # of branches: {}\\n\".format(analyze.nodesNo(),analyze.branchesNo()))\n",
    "\n",
    "print(\"*** SOLUTION ***\\n{}\".format(xComplex.solve()))"
   ]
  },
  {
   "cell_type": "markdown",
   "id": "e9c55a87",
   "metadata": {},
   "source": [
    "There are only 2 valid solutions enforced by equal and not-equal operators:\n",
    "1. Solution x/0/, y/1/ and z/1/ is valid:\n",
    ">\t                                     _1_/1/\n",
    ">\n",
    ">\t                    _&3/0/\t           |\t          \t_^6/1/\n",
    ">\n",
    ">\t          z/1/\t !=\t   _&3/0/\t\t       z/1/\t   == \t\t_^6/1/\n",
    ">\n",
    ">       \t\t        \tb/1/\t&\tx/0/\t\t\t              y/1/\t^\t_0_/0/\n",
    "2. Solution x/1/, y/0/ and z/0/ is valid\n",
    ">\t                                     _1_/1/\n",
    ">\n",
    ">\t                    _&3/1/\t           |\t          \t_^6/0/\n",
    ">\n",
    ">\t          z/0/\t !=\t   _&3/1/\t\t       z/0/\t   == \t\t_^6/0/\n",
    ">\n",
    ">       \t\t        \tb/1/\t&\tx/1/\t\t\t              y/0/\t^\t_0_/0/"
   ]
  },
  {
   "cell_type": "code",
   "execution_count": null,
   "id": "0d74c334",
   "metadata": {},
   "outputs": [],
   "source": []
  }
 ],
 "metadata": {
  "kernelspec": {
   "display_name": "Python 3 (ipykernel)",
   "language": "python",
   "name": "python3"
  },
  "language_info": {
   "codemirror_mode": {
    "name": "ipython",
    "version": 3
   },
   "file_extension": ".py",
   "mimetype": "text/x-python",
   "name": "python",
   "nbconvert_exporter": "python",
   "pygments_lexer": "ipython3",
   "version": "3.9.9"
  }
 },
 "nbformat": 4,
 "nbformat_minor": 5
}
